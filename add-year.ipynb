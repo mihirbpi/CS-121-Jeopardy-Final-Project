{
 "cells": [
  {
   "cell_type": "code",
   "execution_count": 1,
   "metadata": {},
   "outputs": [],
   "source": [
    "import pandas as pd\n",
    "\n",
    "games = pd.read_csv(\"data/games1.csv\")"
   ]
  },
  {
   "cell_type": "code",
   "execution_count": 4,
   "metadata": {},
   "outputs": [],
   "source": [
    "years = []\n",
    "for season in games[\"season\"]:\n",
    "    if season == 16:\n",
    "        years.append(1999)\n",
    "    elif season == 17:\n",
    "        years.append(2000)\n",
    "    elif season == 18:\n",
    "        years.append(2001)\n",
    "    elif season == 19:\n",
    "        years.append(2002)\n",
    "    elif season == 20:\n",
    "        years.append(2003)\n",
    "    elif season == 21:\n",
    "        years.append(2004)\n",
    "    elif season == 22:\n",
    "        years.append(2005)\n",
    "    elif season == 23:\n",
    "        years.append(2006)\n",
    "    elif season == 24:\n",
    "        years.append(2007)\n",
    "    elif season == 25:\n",
    "        years.append(2008)\n",
    "    elif season == 26:\n",
    "        years.append(2009)\n",
    "    elif season == 27:\n",
    "        years.append(2010)\n",
    "    elif season == 28:\n",
    "        years.append(2011)\n",
    "    elif season == 29:\n",
    "        years.append(2012)\n",
    "    elif season == 30:\n",
    "        years.append(2013)\n",
    "    elif season == 31:\n",
    "        years.append(2014)\n",
    "    elif season == 32:\n",
    "        years.append(2015)\n",
    "    elif season == 33:\n",
    "        years.append(2016)"
   ]
  },
  {
   "cell_type": "code",
   "execution_count": 5,
   "metadata": {},
   "outputs": [],
   "source": [
    "games[\"year\"] = years"
   ]
  },
  {
   "cell_type": "code",
   "execution_count": 6,
   "metadata": {},
   "outputs": [],
   "source": [
    "games.to_csv(\"data/games2.csv\")"
   ]
  },
  {
   "cell_type": "code",
   "execution_count": null,
   "metadata": {},
   "outputs": [],
   "source": []
  }
 ],
 "metadata": {
  "kernelspec": {
   "display_name": "Python 3 (ipykernel)",
   "language": "python",
   "name": "python3"
  },
  "language_info": {
   "codemirror_mode": {
    "name": "ipython",
    "version": 3
   },
   "file_extension": ".py",
   "mimetype": "text/x-python",
   "name": "python",
   "nbconvert_exporter": "python",
   "pygments_lexer": "ipython3",
   "version": "3.9.7"
  }
 },
 "nbformat": 4,
 "nbformat_minor": 2
}
